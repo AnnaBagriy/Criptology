{
 "cells": [
  {
   "cell_type": "code",
   "execution_count": 116,
   "metadata": {},
   "outputs": [],
   "source": [
    "import numpy as np"
   ]
  },
  {
   "cell_type": "code",
   "execution_count": 117,
   "metadata": {},
   "outputs": [],
   "source": [
    "encryptFileName = \"inputData.txt\"\n",
    "encryptedFileName = \"encryptedInputData.txt\"\n",
    "decryptedFileName = \"decryptedInputData.txt\""
   ]
  },
  {
   "cell_type": "code",
   "execution_count": 118,
   "metadata": {},
   "outputs": [],
   "source": [
    "n = 4\n",
    "\n",
    "m_11 = 0\n",
    "m_12 = 1\n",
    "\n",
    "m_21 = 1\n",
    "m_22 = 0\n",
    "\n",
    "m_31 = 2\n",
    "m_32 = 2\n",
    "\n",
    "m_41 = 3\n",
    "m_42 = 3"
   ]
  },
  {
   "cell_type": "markdown",
   "metadata": {},
   "source": [
    "## Cryptography/Cryptoanalysis"
   ]
  },
  {
   "cell_type": "code",
   "execution_count": 125,
   "metadata": {},
   "outputs": [],
   "source": [
    "def encrypt(text):\n",
    "    result = np.chararray((n, n), unicode = True)\n",
    "\n",
    "    for i in range(0, n * n - 1, 4):\n",
    "        result[m_11, m_12] = text[i]\n",
    "        result[m_21, m_22] = text[i + 1]\n",
    "        result[m_31, m_32] = text[i + 2]\n",
    "        result[m_41, m_42] = text[i + 3]\n",
    "        \n",
    "        result = np.rot90(result)\n",
    "        \n",
    "    return result\n",
    "    \n",
    "def decrypt(matrix):\n",
    "    result = \"\"\n",
    "    \n",
    "    for i in range(0, n * n - 1, 4):\n",
    "        result += matrix[m_11, m_12]\n",
    "        result += matrix[m_21, m_22]\n",
    "        result += matrix[m_31, m_32]\n",
    "        result += matrix[m_41, m_42]\n",
    "        \n",
    "        matrix = np.rot90(matrix)\n",
    "        \n",
    "    return result"
   ]
  },
  {
   "cell_type": "markdown",
   "metadata": {},
   "source": [
    "## Files utilities functions"
   ]
  },
  {
   "cell_type": "code",
   "execution_count": 126,
   "metadata": {},
   "outputs": [],
   "source": [
    "def readFile(filename):\n",
    "    f = open(filename, \"r\")\n",
    "    data = f.read()\n",
    "    f.close()\n",
    "    \n",
    "    return data\n",
    "\n",
    "def writeToFile(filename, result):\n",
    "    f = open(filename, \"w\")\n",
    "    data = f.write(result)\n",
    "    f.close()\n",
    "    \n",
    "    return data"
   ]
  },
  {
   "cell_type": "code",
   "execution_count": 226,
   "metadata": {},
   "outputs": [],
   "source": [
    "def readMatrixFile(filename):\n",
    "    f = open(filename, \"r\")\n",
    "\n",
    "    data = np.loadtxt(filename, dtype='S8')\n",
    "    \n",
    "    f.close()\n",
    "    \n",
    "    return data\n",
    "\n",
    "def writeMatrixToFile(filename, matrix):\n",
    "    with open(filename, 'wb') as f:\n",
    "        np.savetxt(f, matrix, fmt = '%c')\n",
    "\n",
    "    f.close()\n",
    "    \n",
    "    return data"
   ]
  },
  {
   "cell_type": "code",
   "execution_count": 227,
   "metadata": {},
   "outputs": [],
   "source": [
    "def encryptFromFile():\n",
    "    data = readFile(encryptFileName)\n",
    "    \n",
    "    result = encrypt(data)\n",
    "    \n",
    "    writeMatrixToFile(encryptedFileName, result)\n",
    "\n",
    "    return result\n",
    "\n",
    "def decryptFromFile():\n",
    "    data = readMatrixFile(encryptedFileName)\n",
    " \n",
    "    print(data)\n",
    "    result = decrypt(data)\n",
    "    \n",
    "    writeToFile(decryptedFileName, result)\n",
    "    \n",
    "    return result"
   ]
  },
  {
   "cell_type": "markdown",
   "metadata": {},
   "source": [
    "## Main"
   ]
  },
  {
   "cell_type": "code",
   "execution_count": 228,
   "metadata": {},
   "outputs": [],
   "source": [
    "f = open(encryptFileName,\"w+\")\n",
    "f.write(\"SECRETINFORMATIO\")\n",
    "f.close() "
   ]
  },
  {
   "cell_type": "code",
   "execution_count": 229,
   "metadata": {},
   "outputs": [
    {
     "name": "stdout",
     "output_type": "stream",
     "text": [
      "[[b'M' b'S' b'T' b'O']\n",
      " [b'E' b'R' b'I' b'E']\n",
      " [b'A' b'I' b'C' b'O']\n",
      " [b'N' b'T' b'F' b'R']]\n"
     ]
    },
    {
     "ename": "TypeError",
     "evalue": "can only concatenate str (not \"numpy.bytes_\") to str",
     "output_type": "error",
     "traceback": [
      "\u001b[0;31m---------------------------------------------------------------------------\u001b[0m",
      "\u001b[0;31mTypeError\u001b[0m                                 Traceback (most recent call last)",
      "\u001b[0;32m<ipython-input-229-242cbfaf57d2>\u001b[0m in \u001b[0;36m<module>\u001b[0;34m\u001b[0m\n\u001b[1;32m      1\u001b[0m \u001b[0mdata\u001b[0m \u001b[0;34m=\u001b[0m \u001b[0mreadFile\u001b[0m\u001b[0;34m(\u001b[0m\u001b[0mencryptFileName\u001b[0m\u001b[0;34m)\u001b[0m\u001b[0;34m\u001b[0m\u001b[0;34m\u001b[0m\u001b[0m\n\u001b[1;32m      2\u001b[0m \u001b[0mencrypted\u001b[0m \u001b[0;34m=\u001b[0m \u001b[0mencryptFromFile\u001b[0m\u001b[0;34m(\u001b[0m\u001b[0;34m)\u001b[0m\u001b[0;34m\u001b[0m\u001b[0;34m\u001b[0m\u001b[0m\n\u001b[0;32m----> 3\u001b[0;31m \u001b[0mdecrypted\u001b[0m \u001b[0;34m=\u001b[0m \u001b[0mdecryptFromFile\u001b[0m\u001b[0;34m(\u001b[0m\u001b[0;34m)\u001b[0m\u001b[0;34m\u001b[0m\u001b[0;34m\u001b[0m\u001b[0m\n\u001b[0m\u001b[1;32m      4\u001b[0m \u001b[0;34m\u001b[0m\u001b[0m\n\u001b[1;32m      5\u001b[0m \u001b[0mprint\u001b[0m\u001b[0;34m(\u001b[0m\u001b[0;34m'Input   = '\u001b[0m\u001b[0;34m,\u001b[0m \u001b[0mdata\u001b[0m\u001b[0;34m)\u001b[0m\u001b[0;34m\u001b[0m\u001b[0;34m\u001b[0m\u001b[0m\n",
      "\u001b[0;32m<ipython-input-227-c0346b6b2fd0>\u001b[0m in \u001b[0;36mdecryptFromFile\u001b[0;34m()\u001b[0m\n\u001b[1;32m     12\u001b[0m \u001b[0;34m\u001b[0m\u001b[0m\n\u001b[1;32m     13\u001b[0m     \u001b[0mprint\u001b[0m\u001b[0;34m(\u001b[0m\u001b[0mdata\u001b[0m\u001b[0;34m)\u001b[0m\u001b[0;34m\u001b[0m\u001b[0;34m\u001b[0m\u001b[0m\n\u001b[0;32m---> 14\u001b[0;31m     \u001b[0mresult\u001b[0m \u001b[0;34m=\u001b[0m \u001b[0mdecrypt\u001b[0m\u001b[0;34m(\u001b[0m\u001b[0mdata\u001b[0m\u001b[0;34m)\u001b[0m\u001b[0;34m\u001b[0m\u001b[0;34m\u001b[0m\u001b[0m\n\u001b[0m\u001b[1;32m     15\u001b[0m \u001b[0;34m\u001b[0m\u001b[0m\n\u001b[1;32m     16\u001b[0m     \u001b[0mwriteToFile\u001b[0m\u001b[0;34m(\u001b[0m\u001b[0mdecryptedFileName\u001b[0m\u001b[0;34m,\u001b[0m \u001b[0mresult\u001b[0m\u001b[0;34m)\u001b[0m\u001b[0;34m\u001b[0m\u001b[0;34m\u001b[0m\u001b[0m\n",
      "\u001b[0;32m<ipython-input-125-9b603475a928>\u001b[0m in \u001b[0;36mdecrypt\u001b[0;34m(matrix)\u001b[0m\n\u001b[1;32m     16\u001b[0m \u001b[0;34m\u001b[0m\u001b[0m\n\u001b[1;32m     17\u001b[0m     \u001b[0;32mfor\u001b[0m \u001b[0mi\u001b[0m \u001b[0;32min\u001b[0m \u001b[0mrange\u001b[0m\u001b[0;34m(\u001b[0m\u001b[0;36m0\u001b[0m\u001b[0;34m,\u001b[0m \u001b[0mn\u001b[0m \u001b[0;34m*\u001b[0m \u001b[0mn\u001b[0m \u001b[0;34m-\u001b[0m \u001b[0;36m1\u001b[0m\u001b[0;34m,\u001b[0m \u001b[0;36m4\u001b[0m\u001b[0;34m)\u001b[0m\u001b[0;34m:\u001b[0m\u001b[0;34m\u001b[0m\u001b[0;34m\u001b[0m\u001b[0m\n\u001b[0;32m---> 18\u001b[0;31m         \u001b[0mresult\u001b[0m \u001b[0;34m+=\u001b[0m \u001b[0mmatrix\u001b[0m\u001b[0;34m[\u001b[0m\u001b[0mm_11\u001b[0m\u001b[0;34m,\u001b[0m \u001b[0mm_12\u001b[0m\u001b[0;34m]\u001b[0m\u001b[0;34m\u001b[0m\u001b[0;34m\u001b[0m\u001b[0m\n\u001b[0m\u001b[1;32m     19\u001b[0m         \u001b[0mresult\u001b[0m \u001b[0;34m+=\u001b[0m \u001b[0mmatrix\u001b[0m\u001b[0;34m[\u001b[0m\u001b[0mm_21\u001b[0m\u001b[0;34m,\u001b[0m \u001b[0mm_22\u001b[0m\u001b[0;34m]\u001b[0m\u001b[0;34m\u001b[0m\u001b[0;34m\u001b[0m\u001b[0m\n\u001b[1;32m     20\u001b[0m         \u001b[0mresult\u001b[0m \u001b[0;34m+=\u001b[0m \u001b[0mmatrix\u001b[0m\u001b[0;34m[\u001b[0m\u001b[0mm_31\u001b[0m\u001b[0;34m,\u001b[0m \u001b[0mm_32\u001b[0m\u001b[0;34m]\u001b[0m\u001b[0;34m\u001b[0m\u001b[0;34m\u001b[0m\u001b[0m\n",
      "\u001b[0;31mTypeError\u001b[0m: can only concatenate str (not \"numpy.bytes_\") to str"
     ]
    }
   ],
   "source": [
    "data = readFile(encryptFileName)\n",
    "encrypted = encryptFromFile()\n",
    "decrypted = decryptFromFile()\n",
    "\n",
    "print('Input   = ', data)\n",
    "print('Encrypted = ', encrypted)\n",
    "print('Decrypted = ', decrypted)"
   ]
  },
  {
   "cell_type": "code",
   "execution_count": null,
   "metadata": {},
   "outputs": [],
   "source": []
  }
 ],
 "metadata": {
  "kernelspec": {
   "display_name": "Python 3",
   "language": "python",
   "name": "python3"
  },
  "language_info": {
   "codemirror_mode": {
    "name": "ipython",
    "version": 3
   },
   "file_extension": ".py",
   "mimetype": "text/x-python",
   "name": "python",
   "nbconvert_exporter": "python",
   "pygments_lexer": "ipython3",
   "version": "3.7.4"
  }
 },
 "nbformat": 4,
 "nbformat_minor": 2
}
