{
 "cells": [
  {
   "cell_type": "code",
   "execution_count": 252,
   "metadata": {},
   "outputs": [],
   "source": [
    "import numpy as np"
   ]
  },
  {
   "cell_type": "code",
   "execution_count": 253,
   "metadata": {},
   "outputs": [],
   "source": [
    "encryptFileName = \"inputData.txt\"\n",
    "encryptedFileName = \"encryptedInputData.txt\"\n",
    "decryptedFileName = \"decryptedInputData.txt\""
   ]
  },
  {
   "cell_type": "code",
   "execution_count": 254,
   "metadata": {},
   "outputs": [],
   "source": [
    "n = 4\n",
    "\n",
    "m_11 = 0\n",
    "m_12 = 1\n",
    "\n",
    "m_21 = 1\n",
    "m_22 = 0\n",
    "\n",
    "m_31 = 2\n",
    "m_32 = 2\n",
    "\n",
    "m_41 = 3\n",
    "m_42 = 3"
   ]
  },
  {
   "cell_type": "markdown",
   "metadata": {},
   "source": [
    "## Cryptography/Cryptoanalysis"
   ]
  },
  {
   "cell_type": "code",
   "execution_count": 255,
   "metadata": {},
   "outputs": [],
   "source": [
    "def encrypt(text):\n",
    "    result = np.chararray((n, n), unicode = True)\n",
    "\n",
    "    for i in range(0, n * n - 1, 4):\n",
    "        result[m_11, m_12] = text[i]\n",
    "        result[m_21, m_22] = text[i + 1]\n",
    "        result[m_31, m_32] = text[i + 2]\n",
    "        result[m_41, m_42] = text[i + 3]\n",
    "        \n",
    "        result = np.rot90(result)\n",
    "        \n",
    "    return result\n",
    "    \n",
    "def decrypt(matrix):\n",
    "    result = \"\"\n",
    "    \n",
    "    for i in range(0, n * n - 1, 4):\n",
    "        result += matrix[m_11, m_12]\n",
    "        result += matrix[m_21, m_22]\n",
    "        result += matrix[m_31, m_32]\n",
    "        result += matrix[m_41, m_42]\n",
    "        \n",
    "        matrix = np.rot90(matrix)\n",
    "        \n",
    "    return result"
   ]
  },
  {
   "cell_type": "markdown",
   "metadata": {},
   "source": [
    "## Files utilities functions"
   ]
  },
  {
   "cell_type": "code",
   "execution_count": 256,
   "metadata": {},
   "outputs": [],
   "source": [
    "def readFile(filename):\n",
    "    f = open(filename, \"r\")\n",
    "    data = f.read()\n",
    "    f.close()\n",
    "    \n",
    "    return data\n",
    "\n",
    "def writeToFile(filename, result):\n",
    "    f = open(filename, \"w\")\n",
    "    data = f.write(result)\n",
    "    f.close()\n",
    "    \n",
    "    return data"
   ]
  },
  {
   "cell_type": "code",
   "execution_count": 257,
   "metadata": {},
   "outputs": [],
   "source": [
    "def readMatrixFile(filename):\n",
    "    f = open(filename, \"r\")\n",
    "\n",
    "    data = np.genfromtxt(filename, dtype=str)\n",
    "    \n",
    "    f.close()\n",
    "    \n",
    "    return data\n",
    "\n",
    "def writeMatrixToFile(filename, matrix):\n",
    "    with open(filename, 'wb') as f:\n",
    "        np.savetxt(f, matrix, fmt = '%c')\n",
    "\n",
    "    f.close()\n",
    "    \n",
    "    return data"
   ]
  },
  {
   "cell_type": "code",
   "execution_count": 258,
   "metadata": {},
   "outputs": [],
   "source": [
    "def encryptFromFile():\n",
    "    data = readFile(encryptFileName)\n",
    "    \n",
    "    result = encrypt(data)\n",
    "    \n",
    "    writeMatrixToFile(encryptedFileName, result)\n",
    "\n",
    "    return result\n",
    "\n",
    "def decryptFromFile():\n",
    "    data = readMatrixFile(encryptedFileName)\n",
    " \n",
    "    result = decrypt(data)\n",
    "    \n",
    "    writeToFile(decryptedFileName, result)\n",
    "    \n",
    "    return result"
   ]
  },
  {
   "cell_type": "markdown",
   "metadata": {},
   "source": [
    "## Main"
   ]
  },
  {
   "cell_type": "code",
   "execution_count": 259,
   "metadata": {},
   "outputs": [],
   "source": [
    "f = open(encryptFileName,\"w+\")\n",
    "f.write(\"SECRETINFORMATIO\")\n",
    "f.close() "
   ]
  },
  {
   "cell_type": "code",
   "execution_count": 260,
   "metadata": {},
   "outputs": [
    {
     "name": "stdout",
     "output_type": "stream",
     "text": [
      "Input   =  SECRETINFORMATIO\n",
      "Encrypted = \n",
      " [['M' 'S' 'T' 'O']\n",
      " ['E' 'R' 'I' 'E']\n",
      " ['A' 'I' 'C' 'O']\n",
      " ['N' 'T' 'F' 'R']]\n",
      "Decrypted =  SECRETINFORMATIO\n"
     ]
    }
   ],
   "source": [
    "data = readFile(encryptFileName)\n",
    "encrypted = encryptFromFile()\n",
    "decrypted = decryptFromFile()\n",
    "\n",
    "print('Input     = ', data)\n",
    "print('Encrypted = \\n', encrypted)\n",
    "print('Decrypted = ', decrypted)"
   ]
  },
  {
   "cell_type": "code",
   "execution_count": null,
   "metadata": {},
   "outputs": [],
   "source": []
  }
 ],
 "metadata": {
  "kernelspec": {
   "display_name": "Python 3",
   "language": "python",
   "name": "python3"
  },
  "language_info": {
   "codemirror_mode": {
    "name": "ipython",
    "version": 3
   },
   "file_extension": ".py",
   "mimetype": "text/x-python",
   "name": "python",
   "nbconvert_exporter": "python",
   "pygments_lexer": "ipython3",
   "version": "3.7.4"
  }
 },
 "nbformat": 4,
 "nbformat_minor": 2
}
