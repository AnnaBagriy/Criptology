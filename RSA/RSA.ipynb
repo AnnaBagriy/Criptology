{
 "cells": [
  {
   "cell_type": "code",
   "execution_count": 472,
   "metadata": {},
   "outputs": [],
   "source": [
    "import math\n",
    "import random\n",
    "\n",
    "import numpy as np"
   ]
  },
  {
   "cell_type": "code",
   "execution_count": 473,
   "metadata": {},
   "outputs": [],
   "source": [
    "encryptFileName = \"inputData.txt\"\n",
    "encryptedFileName = \"encryptedInputData.txt\"\n",
    "decryptedFileName = \"decryptedInputData.txt\""
   ]
  },
  {
   "cell_type": "code",
   "execution_count": 474,
   "metadata": {},
   "outputs": [],
   "source": [
    "min_prime = 100\n",
    "max_prime = 999"
   ]
  },
  {
   "cell_type": "markdown",
   "metadata": {},
   "source": [
    "## Files utilities functions"
   ]
  },
  {
   "cell_type": "code",
   "execution_count": 475,
   "metadata": {},
   "outputs": [],
   "source": [
    "def readTextFile(filename):\n",
    "    f = open(filename,\"r\")\n",
    "    data = f.read()\n",
    "    f.close()\n",
    "    \n",
    "    return data\n",
    "\n",
    "def readVectorFile(filename):\n",
    "    f = open(filename,\"r\")\n",
    "    data = f.readlines()\n",
    "    f.close()\n",
    "    \n",
    "    return data\n",
    "\n",
    "def writeToFile(filename, result):\n",
    "    with open(filename, 'w') as f:\n",
    "        for item in result:\n",
    "            f.write(\"%s\" % item)\n",
    "        \n",
    "    f.close()\n",
    "    \n",
    "    return data"
   ]
  },
  {
   "cell_type": "code",
   "execution_count": 476,
   "metadata": {},
   "outputs": [],
   "source": [
    "def encryptFromFile(pk):\n",
    "    data = readTextFile(encryptFileName)\n",
    "    \n",
    "    result = encrypt(data, pk)\n",
    "    \n",
    "    writeToFile(encryptedFileName, result)\n",
    "\n",
    "    return result\n",
    "\n",
    "def decryptFromFile(pk):\n",
    "    data = readVectorFile(encryptedFileName)\n",
    " \n",
    "    result = decrypt(data, pk)\n",
    "    \n",
    "    writeToFile(decryptedFileName, result)\n",
    "    \n",
    "    return result"
   ]
  },
  {
   "cell_type": "markdown",
   "metadata": {},
   "source": [
    "## Cryptography/Cryptoanalysis"
   ]
  },
  {
   "cell_type": "code",
   "execution_count": 477,
   "metadata": {},
   "outputs": [],
   "source": [
    "def is_prime(x):\n",
    "    count = 0\n",
    "    \n",
    "    for i in range(int(x / 2)):\n",
    "        if x % (i + 1) == 0:\n",
    "            count = count + 1\n",
    "            \n",
    "    return count == 1\n",
    "\n",
    "def generate_prime_number(start, end):\n",
    "    primes = [i for i in range(start, end) if is_prime(i)]\n",
    "    \n",
    "    return random.choice(primes)"
   ]
  },
  {
   "cell_type": "code",
   "execution_count": 478,
   "metadata": {},
   "outputs": [],
   "source": [
    "def gcd(a, b):\n",
    "    while b != 0:\n",
    "        a, b = b, a % b\n",
    "        \n",
    "    return a\n",
    "\n",
    "def multiplicative_inverse(a, b):\n",
    "    a = a % b; \n",
    "    \n",
    "    for x in range(1, b) : \n",
    "        if ((a * x) % b == 1) : \n",
    "            return x \n",
    "        \n",
    "    return 1"
   ]
  },
  {
   "cell_type": "code",
   "execution_count": 479,
   "metadata": {},
   "outputs": [],
   "source": [
    "def get_keys(p, q):\n",
    "    n = p * q\n",
    "    \n",
    "    phi = (p - 1) * (q - 1)\n",
    "    \n",
    "    e = random.randrange(1, phi)\n",
    "\n",
    "    g = gcd(e, phi)\n",
    "    while g != 1:\n",
    "        e = random.randrange(1, phi)\n",
    "        g = gcd(e, phi)\n",
    "\n",
    "    d = multiplicative_inverse(e, phi)\n",
    "\n",
    "    return (e, n), (d, n)"
   ]
  },
  {
   "cell_type": "code",
   "execution_count": 480,
   "metadata": {},
   "outputs": [],
   "source": [
    "def encrypt(text, pk):\n",
    "    e, n = pk\n",
    "\n",
    "    result = [(ord(char) ** e) % n for char in text]\n",
    "    \n",
    "    return result \n",
    "\n",
    "def decrypt(text, pk):\n",
    "    d, n = pk\n",
    "\n",
    "    result = [chr(int(char) ** d % n) for char in text]\n",
    "    \n",
    "    return ''.join(result)"
   ]
  },
  {
   "cell_type": "markdown",
   "metadata": {},
   "source": [
    "## Main\n"
   ]
  },
  {
   "cell_type": "code",
   "execution_count": 481,
   "metadata": {},
   "outputs": [
    {
     "data": {
      "text/plain": [
       "'W\\nE\\n \\nN\\nO\\nW\\n \\nM\\nE\\nE\\nT\\n \\nI\\nN\\n \\nO\\nU\\nR\\n \\nS\\nH\\nE\\nD\\n'"
      ]
     },
     "execution_count": 481,
     "metadata": {},
     "output_type": "execute_result"
    }
   ],
   "source": [
    "f = open(encryptFileName,\"w+\")\n",
    "f.write()\n",
    "text = \"WE NOW MEET IN OUR SHED\"\n",
    "f.close()\n",
    "writeToFile(encryptFileName, text)"
   ]
  },
  {
   "cell_type": "code",
   "execution_count": 482,
   "metadata": {},
   "outputs": [],
   "source": [
    "p = generate_prime_number(min_prime, max_prime)\n",
    "q = generate_prime_number(min_prime, max_prime)\n",
    "\n",
    "while p == q:\n",
    "    q = generate_prime_number(min_prime, max_prime)\n",
    "        \n",
    "public, private = get_keys(p, q)"
   ]
  },
  {
   "cell_type": "code",
   "execution_count": 483,
   "metadata": {},
   "outputs": [
    {
     "name": "stdout",
     "output_type": "stream",
     "text": [
      "Input     =  WE NOW MEET IN OUR SHED\n",
      "Encrypted =  [22597, 93102, 21460, 85204, 79921, 22597, 21460, 7616, 93102, 93102, 44644, 21460, 112658, 85204, 21460, 79921, 53251, 17057, 21460, 101113, 71857, 93102, 52739]\n",
      "Decrypted =  烆\n"
     ]
    }
   ],
   "source": [
    "data = readTextFile(encryptFileName)\n",
    "\n",
    "encrypted = encryptFromFile(public)\n",
    "decrypted = decryptFromFile(private)\n",
    "\n",
    "print('Input     = ', data)\n",
    "print('Encrypted = ', encrypted)\n",
    "print('Decrypted = ', decrypted)"
   ]
  },
  {
   "cell_type": "code",
   "execution_count": null,
   "metadata": {},
   "outputs": [],
   "source": []
  }
 ],
 "metadata": {
  "kernelspec": {
   "display_name": "Python 3",
   "language": "python",
   "name": "python3"
  },
  "language_info": {
   "codemirror_mode": {
    "name": "ipython",
    "version": 3
   },
   "file_extension": ".py",
   "mimetype": "text/x-python",
   "name": "python",
   "nbconvert_exporter": "python",
   "pygments_lexer": "ipython3",
   "version": "3.7.4"
  }
 },
 "nbformat": 4,
 "nbformat_minor": 2
}
