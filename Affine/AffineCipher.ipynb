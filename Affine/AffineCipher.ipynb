{
 "cells": [
  {
   "cell_type": "code",
   "execution_count": 60,
   "metadata": {},
   "outputs": [],
   "source": [
    "import string"
   ]
  },
  {
   "cell_type": "code",
   "execution_count": 61,
   "metadata": {},
   "outputs": [],
   "source": [
    "lowercaseAlphabet = string.ascii_lowercase\n",
    "uppercaseAlphabet = string.ascii_uppercase\n",
    "\n",
    "m = len(lowercaseAlphabet)"
   ]
  },
  {
   "cell_type": "code",
   "execution_count": 62,
   "metadata": {},
   "outputs": [],
   "source": [
    "encryptFileName = \"inputData.txt\"\n",
    "encryptedFileName = \"encryptedInputData.txt\"\n",
    "decryptedFileName = \"decryptedInputData.txt\""
   ]
  },
  {
   "cell_type": "code",
   "execution_count": 63,
   "metadata": {},
   "outputs": [],
   "source": [
    "a = 3\n",
    "b = 4"
   ]
  },
  {
   "cell_type": "markdown",
   "metadata": {},
   "source": [
    "## Cryptography/Cryptoanalysis"
   ]
  },
  {
   "cell_type": "code",
   "execution_count": 64,
   "metadata": {},
   "outputs": [],
   "source": [
    "def gcd(a, b):\n",
    "    while b != 0:\n",
    "        a, b = b, a % b\n",
    "        \n",
    "    return a\n",
    "\n",
    "def multiplicative_inverse(a, b):\n",
    "    a = a % b; \n",
    "    \n",
    "    for x in range(1, b) : \n",
    "        if ((a * x) % b == 1) : \n",
    "            return x \n",
    "        \n",
    "    return 1"
   ]
  },
  {
   "cell_type": "code",
   "execution_count": 65,
   "metadata": {},
   "outputs": [],
   "source": [
    "def encrypt(text):\n",
    "    result = \"\"\n",
    "    \n",
    "    for i in range(len(text)):\n",
    "        char = text[i] \n",
    "        \n",
    "        if(char.isspace()):\n",
    "            continue\n",
    "            \n",
    "        if(char.isupper()):\n",
    "            xIndex = uppercaseAlphabet.index(char)\n",
    "            \n",
    "            yIndex = (a * xIndex + b) % m\n",
    "            y = uppercaseAlphabet[yIndex]\n",
    "        else:\n",
    "            xIndex = lowercaseAlphabet.index(char)\n",
    "            \n",
    "            yIndex = (a * xIndex + b) % m\n",
    "            y = lowercaseAlphabet[yIndex]\n",
    "        \n",
    "        result += y\n",
    "            \n",
    "    return result\n",
    "\n",
    "def decrypt(a, text):\n",
    "    result = \"\"\n",
    "    \n",
    "    for i in range(len(text)):\n",
    "        char = text[i] \n",
    "        \n",
    "        a_1 = multiplicative_inverse(a, m)\n",
    "        \n",
    "        if(char.isupper()):\n",
    "            yIndex = uppercaseAlphabet.index(char)\n",
    "            \n",
    "            xIndex = a_1 * (yIndex + m - b) % m\n",
    "            x = uppercaseAlphabet[xIndex]\n",
    "        else:\n",
    "            yIndex = lowercaseAlphabet.index(char)\n",
    "            \n",
    "            xIndex = a_1 * (yIndex + m - b) % m\n",
    "            x = lowercaseAlphabet[xIndex]\n",
    "        \n",
    "        result += x\n",
    "            \n",
    "    return result\n",
    "\n",
    "def decipher(text):\n",
    "    n = len(uppercaseAlphabet)\n",
    "    \n",
    "    for key in range(n ** 2):\n",
    "        keyA = multiplicative_inverse(key, n)\n",
    "        if gcd(keyA, n) != 1:\n",
    "            continue\n",
    "\n",
    "        decryptedText = decrypt(text, keyA)\n",
    "        \n",
    "        print(decryptedText)"
   ]
  },
  {
   "cell_type": "markdown",
   "metadata": {},
   "source": [
    "## Files utilities functions"
   ]
  },
  {
   "cell_type": "code",
   "execution_count": 66,
   "metadata": {},
   "outputs": [],
   "source": [
    "def readFile(filename):\n",
    "    f = open(filename,\"r\")\n",
    "    data = f.read()\n",
    "    f.close()\n",
    "    \n",
    "    return data\n",
    "\n",
    "def writeToFile(filename, result):\n",
    "    f = open(filename,\"w\")\n",
    "    data = f.write(result)\n",
    "    f.close()\n",
    "    \n",
    "    return data"
   ]
  },
  {
   "cell_type": "code",
   "execution_count": 67,
   "metadata": {},
   "outputs": [],
   "source": [
    "def encryptFromFile():\n",
    "    data = readFile(encryptFileName)\n",
    "    \n",
    "    result = encrypt(data)\n",
    "    \n",
    "    writeToFile(encryptedFileName, result)\n",
    "\n",
    "    return result\n",
    "\n",
    "def decryptFromFile(a):\n",
    "    data = readFile(encryptedFileName)\n",
    " \n",
    "    result = decrypt(a, data)\n",
    "    \n",
    "    writeToFile(decryptedFileName, result)\n",
    "    \n",
    "    return result"
   ]
  },
  {
   "cell_type": "markdown",
   "metadata": {},
   "source": [
    "## Main"
   ]
  },
  {
   "cell_type": "code",
   "execution_count": 68,
   "metadata": {},
   "outputs": [],
   "source": [
    "f = open(encryptFileName,\"w+\")\n",
    "f.write(\"ATTACKATDAWN\")\n",
    "f.close() "
   ]
  },
  {
   "cell_type": "code",
   "execution_count": 69,
   "metadata": {},
   "outputs": [
    {
     "name": "stdout",
     "output_type": "stream",
     "text": [
      "Input     =  ATTACKATDAWN\n",
      "Encrypted =  EJJEKIEJNESR\n",
      "Decrypted =  ATTACKATDAWN\n"
     ]
    }
   ],
   "source": [
    "data = readFile(encryptFileName)\n",
    "encrypted = encryptFromFile()\n",
    "decrypted = decryptFromFile(a)\n",
    "\n",
    "print('Input     = ', data)\n",
    "print('Encrypted = ', encrypted)\n",
    "print('Decrypted = ', decrypted)"
   ]
  },
  {
   "cell_type": "code",
   "execution_count": 70,
   "metadata": {},
   "outputs": [
    {
     "ename": "TypeError",
     "evalue": "object of type 'int' has no len()",
     "output_type": "error",
     "traceback": [
      "\u001b[0;31m---------------------------------------------------------------------------\u001b[0m",
      "\u001b[0;31mTypeError\u001b[0m                                 Traceback (most recent call last)",
      "\u001b[0;32m<ipython-input-70-638a79171479>\u001b[0m in \u001b[0;36m<module>\u001b[0;34m\u001b[0m\n\u001b[0;32m----> 1\u001b[0;31m \u001b[0mdecipher\u001b[0m\u001b[0;34m(\u001b[0m\u001b[0mencrypted\u001b[0m\u001b[0;34m)\u001b[0m\u001b[0;34m\u001b[0m\u001b[0;34m\u001b[0m\u001b[0m\n\u001b[0m",
      "\u001b[0;32m<ipython-input-65-5b4a92bbae76>\u001b[0m in \u001b[0;36mdecipher\u001b[0;34m(text)\u001b[0m\n\u001b[1;32m     54\u001b[0m             \u001b[0;32mcontinue\u001b[0m\u001b[0;34m\u001b[0m\u001b[0;34m\u001b[0m\u001b[0m\n\u001b[1;32m     55\u001b[0m \u001b[0;34m\u001b[0m\u001b[0m\n\u001b[0;32m---> 56\u001b[0;31m         \u001b[0mdecryptedText\u001b[0m \u001b[0;34m=\u001b[0m \u001b[0mdecrypt\u001b[0m\u001b[0;34m(\u001b[0m\u001b[0mtext\u001b[0m\u001b[0;34m,\u001b[0m \u001b[0mkeyA\u001b[0m\u001b[0;34m)\u001b[0m\u001b[0;34m\u001b[0m\u001b[0;34m\u001b[0m\u001b[0m\n\u001b[0m\u001b[1;32m     57\u001b[0m \u001b[0;34m\u001b[0m\u001b[0m\n\u001b[1;32m     58\u001b[0m         \u001b[0mprint\u001b[0m\u001b[0;34m(\u001b[0m\u001b[0mdecryptedText\u001b[0m\u001b[0;34m)\u001b[0m\u001b[0;34m\u001b[0m\u001b[0;34m\u001b[0m\u001b[0m\n",
      "\u001b[0;32m<ipython-input-65-5b4a92bbae76>\u001b[0m in \u001b[0;36mdecrypt\u001b[0;34m(a, text)\u001b[0m\n\u001b[1;32m     26\u001b[0m     \u001b[0mresult\u001b[0m \u001b[0;34m=\u001b[0m \u001b[0;34m\"\"\u001b[0m\u001b[0;34m\u001b[0m\u001b[0;34m\u001b[0m\u001b[0m\n\u001b[1;32m     27\u001b[0m \u001b[0;34m\u001b[0m\u001b[0m\n\u001b[0;32m---> 28\u001b[0;31m     \u001b[0;32mfor\u001b[0m \u001b[0mi\u001b[0m \u001b[0;32min\u001b[0m \u001b[0mrange\u001b[0m\u001b[0;34m(\u001b[0m\u001b[0mlen\u001b[0m\u001b[0;34m(\u001b[0m\u001b[0mtext\u001b[0m\u001b[0;34m)\u001b[0m\u001b[0;34m)\u001b[0m\u001b[0;34m:\u001b[0m\u001b[0;34m\u001b[0m\u001b[0;34m\u001b[0m\u001b[0m\n\u001b[0m\u001b[1;32m     29\u001b[0m         \u001b[0mchar\u001b[0m \u001b[0;34m=\u001b[0m \u001b[0mtext\u001b[0m\u001b[0;34m[\u001b[0m\u001b[0mi\u001b[0m\u001b[0;34m]\u001b[0m\u001b[0;34m\u001b[0m\u001b[0;34m\u001b[0m\u001b[0m\n\u001b[1;32m     30\u001b[0m \u001b[0;34m\u001b[0m\u001b[0m\n",
      "\u001b[0;31mTypeError\u001b[0m: object of type 'int' has no len()"
     ]
    }
   ],
   "source": [
    "decipher(encrypted)"
   ]
  },
  {
   "cell_type": "code",
   "execution_count": null,
   "metadata": {},
   "outputs": [],
   "source": []
  }
 ],
 "metadata": {
  "kernelspec": {
   "display_name": "Python 3",
   "language": "python",
   "name": "python3"
  },
  "language_info": {
   "codemirror_mode": {
    "name": "ipython",
    "version": 3
   },
   "file_extension": ".py",
   "mimetype": "text/x-python",
   "name": "python",
   "nbconvert_exporter": "python",
   "pygments_lexer": "ipython3",
   "version": "3.7.4"
  }
 },
 "nbformat": 4,
 "nbformat_minor": 2
}
