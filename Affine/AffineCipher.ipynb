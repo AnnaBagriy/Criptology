{
 "cells": [
  {
   "cell_type": "code",
   "execution_count": 61,
   "metadata": {},
   "outputs": [],
   "source": [
    "import string"
   ]
  },
  {
   "cell_type": "code",
   "execution_count": 62,
   "metadata": {},
   "outputs": [],
   "source": [
    "lowercaseAlphabet = string.ascii_lowercase\n",
    "uppercaseAlphabet = string.ascii_uppercase\n",
    "\n",
    "m = len(lowercaseAlphabet)"
   ]
  },
  {
   "cell_type": "code",
   "execution_count": 63,
   "metadata": {},
   "outputs": [],
   "source": [
    "encryptFileName = \"inputData.txt\"\n",
    "encryptedFileName = \"encryptedInputData.txt\"\n",
    "decryptedFileName = \"decryptedInputData.txt\""
   ]
  },
  {
   "cell_type": "markdown",
   "metadata": {},
   "source": [
    "## Cryptography/Cryptoanalysis"
   ]
  },
  {
   "cell_type": "code",
   "execution_count": 64,
   "metadata": {},
   "outputs": [],
   "source": [
    "def encrypt(text):\n",
    "    result = \"\"\n",
    "    \n",
    "    for i in range(len(text)):\n",
    "        char = text[i] \n",
    "        \n",
    "        if(char.isupper()):\n",
    "            xIndex = uppercaseAlphabet.index(char)\n",
    "            \n",
    "            yIndex = (a * xIndex + b) % m\n",
    "            y = uppercaseAlphabet[yIndex]\n",
    "        else:\n",
    "            xIndex = lowercaseAlphabet.index(char)\n",
    "            \n",
    "            yIndex = (a * xIndex + b) % m\n",
    "            y = lowercaseAlphabet[yIndex]\n",
    "        \n",
    "        result += y\n",
    "            \n",
    "    return result\n",
    "\n",
    "def decrypt(text):\n",
    "    result = \"\"\n",
    "    \n",
    "    for i in range(len(text)):\n",
    "        char = text[i] \n",
    "        \n",
    "        if(char.isupper()):\n",
    "            yIndex = uppercaseAlphabet.index(char)\n",
    "            \n",
    "            xIndex = a_1 * (yIndex + m - b) % m\n",
    "            x = uppercaseAlphabet[xIndex]\n",
    "        else:\n",
    "            yIndex = lowercaseAlphabet.index(char)\n",
    "            \n",
    "            xIndex = a_1 * (yIndex + m - b) % m\n",
    "            x = lowercaseAlphabet[xIndex]\n",
    "        \n",
    "        result += x\n",
    "            \n",
    "    return result"
   ]
  },
  {
   "cell_type": "markdown",
   "metadata": {},
   "source": [
    "## Files utilities functions"
   ]
  },
  {
   "cell_type": "code",
   "execution_count": 65,
   "metadata": {},
   "outputs": [],
   "source": [
    "def readFile(filename):\n",
    "    f = open(filename,\"r\")\n",
    "    data = f.read()\n",
    "    f.close()\n",
    "    \n",
    "    return data\n",
    "\n",
    "def writeToFile(filename, result):\n",
    "    f = open(filename,\"w\")\n",
    "    data = f.write(result)\n",
    "    f.close()\n",
    "    \n",
    "    return data"
   ]
  },
  {
   "cell_type": "code",
   "execution_count": 71,
   "metadata": {},
   "outputs": [],
   "source": [
    "def encryptFromFile():\n",
    "    data = readFile(encryptFileName)\n",
    "    \n",
    "    result = encrypt(data)\n",
    "    \n",
    "    writeToFile(encryptedFileName, result)\n",
    "\n",
    "    return result\n",
    "\n",
    "def decryptFromFile():\n",
    "    data = readFile(encryptedFileName)\n",
    " \n",
    "    result = decrypt(data)\n",
    "    \n",
    "    writeToFile(decryptedFileName, result)\n",
    "    \n",
    "    return result"
   ]
  },
  {
   "cell_type": "markdown",
   "metadata": {},
   "source": [
    "## Main"
   ]
  },
  {
   "cell_type": "code",
   "execution_count": 72,
   "metadata": {},
   "outputs": [],
   "source": [
    "a = 3\n",
    "b = 4\n",
    "\n",
    "a_1 = 9"
   ]
  },
  {
   "cell_type": "code",
   "execution_count": 73,
   "metadata": {},
   "outputs": [],
   "source": [
    "f = open(encryptFileName,\"w+\")\n",
    "f.write(\"ATTACKATDAWN\")\n",
    "f.close() "
   ]
  },
  {
   "cell_type": "code",
   "execution_count": 74,
   "metadata": {},
   "outputs": [
    {
     "name": "stdout",
     "output_type": "stream",
     "text": [
      "Input   =  ATTACKATDAWN\n",
      "Encrypted =  EJJEKIEJNESR\n",
      "Decrypted =  ATTACKATDAWN\n"
     ]
    }
   ],
   "source": [
    "data = readFile(encryptFileName)\n",
    "encrypted = encryptFromFile()\n",
    "decrypted = decryptFromFile()\n",
    "\n",
    "encrypted = encrypt(data)\n",
    "decrypted = decrypt(encrypted)\n",
    "\n",
    "print('Input   = ', data)\n",
    "print('Encrypted = ', encrypted)\n",
    "print('Decrypted = ', decrypted)"
   ]
  },
  {
   "cell_type": "code",
   "execution_count": null,
   "metadata": {},
   "outputs": [],
   "source": []
  }
 ],
 "metadata": {
  "kernelspec": {
   "display_name": "Python 3",
   "language": "python",
   "name": "python3"
  },
  "language_info": {
   "codemirror_mode": {
    "name": "ipython",
    "version": 3
   },
   "file_extension": ".py",
   "mimetype": "text/x-python",
   "name": "python",
   "nbconvert_exporter": "python",
   "pygments_lexer": "ipython3",
   "version": "3.7.4"
  }
 },
 "nbformat": 4,
 "nbformat_minor": 2
}
