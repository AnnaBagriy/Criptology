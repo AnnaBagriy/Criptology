{
 "cells": [
  {
   "cell_type": "code",
   "execution_count": 1,
   "metadata": {},
   "outputs": [],
   "source": [
    "encodeFileName = \"inputData.txt\"\n",
    "encodedFileName = \"encodedInputData.txt\"\n",
    "decodedFileName = \"decodedInputData.txt\""
   ]
  },
  {
   "cell_type": "markdown",
   "metadata": {},
   "source": [
    "# Cryptography/Cryptoanalysis"
   ]
  },
  {
   "cell_type": "code",
   "execution_count": 4,
   "metadata": {},
   "outputs": [],
   "source": [
    "def encode(text, step):\n",
    "    result = \"\" \n",
    "  \n",
    "    for i in range(len(text)): \n",
    "        char = text[i] \n",
    "  \n",
    "        if (char.isupper()): \n",
    "            result += chr((ord(char) + step - 65) % 26 + 65) \n",
    "        else: \n",
    "            result += chr((ord(char) + step - 97) % 26 + 97) \n",
    "  \n",
    "    return result \n",
    " \n",
    "def decode(text, step):\n",
    "    result = \"\" \n",
    "  \n",
    "    for i in range(len(text)): \n",
    "        char = text[i] \n",
    "  \n",
    "        if (char.isupper()): \n",
    "            result += chr((ord(char) - step - 65) % 26 + 65) \n",
    "        else: \n",
    "            result += chr((ord(char) - step - 97) % 26 + 97) \n",
    "  \n",
    "    return result \n",
    "\n",
    "def decipher(text):\n",
    "    for step in range(1,26):\n",
    "        result = \"\" \n",
    "        \n",
    "        for i in range(len(text)): \n",
    "            char = text[i] \n",
    "\n",
    "            if (char.isupper()): \n",
    "                result += chr((ord(char) - step - 65) % 26 + 65) \n",
    "            else: \n",
    "                result += chr((ord(char) - step - 97) % 26 + 97) \n",
    "\n",
    "        print(result)"
   ]
  },
  {
   "cell_type": "markdown",
   "metadata": {},
   "source": [
    "## Files utilities functions"
   ]
  },
  {
   "cell_type": "code",
   "execution_count": 2,
   "metadata": {},
   "outputs": [],
   "source": [
    "def readFile(filename):\n",
    "    f = open(filename,\"r\")\n",
    "    data = f.read()\n",
    "    f.close()\n",
    "    \n",
    "    return data\n",
    "\n",
    "def writeToFile(filename, result):\n",
    "    f = open(filename,\"w\")\n",
    "    data = f.write(result)\n",
    "    f.close()\n",
    "    \n",
    "    return data"
   ]
  },
  {
   "cell_type": "code",
   "execution_count": null,
   "metadata": {},
   "outputs": [],
   "source": [
    "def encodeFromFile(step):\n",
    "    data = readFile(encodeFileName)\n",
    "    \n",
    "    result = encode(data, step)\n",
    "    \n",
    "    writeToFile(encodedFileName, result)\n",
    "\n",
    "    return result\n",
    "\n",
    "def decodeFromFile(step):\n",
    "    data = readFile(encodedFileName)\n",
    " \n",
    "    result = decode(data, step)\n",
    "    \n",
    "    writeToFile(decodedFileName, result)\n",
    "    \n",
    "    return result"
   ]
  },
  {
   "cell_type": "code",
   "execution_count": 11,
   "metadata": {},
   "outputs": [],
   "source": [
    "f = open(encodeFileName,\"w+\")\n",
    "f.write(\"Hello\")\n",
    "f.close() "
   ]
  },
  {
   "cell_type": "code",
   "execution_count": 12,
   "metadata": {},
   "outputs": [
    {
     "name": "stdout",
     "output_type": "stream",
     "text": [
      "Input   =  Hello\n",
      "Encoded =  Olssv\n",
      "Decoded =  Hello\n"
     ]
    }
   ],
   "source": [
    "step = 7\n",
    "\n",
    "data = readFile(encodeFileName)\n",
    "encoded = encodeFromFile(step)\n",
    "decoded = decodeFromFile(step)\n",
    "\n",
    "print('Input   = ', data)\n",
    "print('Encoded = ', encoded)\n",
    "print('Decoded = ', decoded)"
   ]
  },
  {
   "cell_type": "code",
   "execution_count": 13,
   "metadata": {},
   "outputs": [
    {
     "name": "stdout",
     "output_type": "stream",
     "text": [
      "Nkrru\n",
      "Mjqqt\n",
      "Lipps\n",
      "Khoor\n",
      "Jgnnq\n",
      "Ifmmp\n",
      "Hello\n",
      "Gdkkn\n",
      "Fcjjm\n",
      "Ebiil\n",
      "Dahhk\n",
      "Czggj\n",
      "Byffi\n",
      "Axeeh\n",
      "Zwddg\n",
      "Yvccf\n",
      "Xubbe\n",
      "Wtaad\n",
      "Vszzc\n",
      "Uryyb\n",
      "Tqxxa\n",
      "Spwwz\n",
      "Rovvy\n",
      "Qnuux\n",
      "Pmttw\n"
     ]
    }
   ],
   "source": [
    "decipher(encoded)"
   ]
  },
  {
   "cell_type": "code",
   "execution_count": null,
   "metadata": {},
   "outputs": [],
   "source": []
  }
 ],
 "metadata": {
  "kernelspec": {
   "display_name": "Python 3",
   "language": "python",
   "name": "python3"
  },
  "language_info": {
   "codemirror_mode": {
    "name": "ipython",
    "version": 3
   },
   "file_extension": ".py",
   "mimetype": "text/x-python",
   "name": "python",
   "nbconvert_exporter": "python",
   "pygments_lexer": "ipython3",
   "version": "3.7.4"
  }
 },
 "nbformat": 4,
 "nbformat_minor": 2
}
