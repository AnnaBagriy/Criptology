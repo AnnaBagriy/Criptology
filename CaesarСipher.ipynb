{
 "cells": [
  {
   "cell_type": "code",
   "execution_count": 84,
   "metadata": {},
   "outputs": [],
   "source": [
    "encodeFileName = \"inputData.txt\"\n",
    "encodedFileName = \"encodedInputData.txt\"\n",
    "decodedFileName = \"decodedInputData.txt\""
   ]
  },
  {
   "cell_type": "code",
   "execution_count": 85,
   "metadata": {},
   "outputs": [],
   "source": [
    "def readFile(filename):\n",
    "    f = open(filename,\"r\")\n",
    "    data = f.read()\n",
    "    f.close()\n",
    "    \n",
    "    return data\n",
    "\n",
    "def writeToFile(filename, result):\n",
    "    f = open(filename,\"w\")\n",
    "    data = f.write(result)\n",
    "    f.close()\n",
    "    \n",
    "    return data"
   ]
  },
  {
   "cell_type": "code",
   "execution_count": 91,
   "metadata": {},
   "outputs": [],
   "source": [
    "def encode(text, step):\n",
    "    result = \"\" \n",
    "  \n",
    "    for i in range(len(text)): \n",
    "        char = text[i] \n",
    "  \n",
    "        if (char.isupper()): \n",
    "            result += chr((ord(char) + step - 65) % 26 + 65) \n",
    "        else: \n",
    "            result += chr((ord(char) + step - 97) % 26 + 97) \n",
    "  \n",
    "    return result \n",
    " \n",
    "def decode(text, step):\n",
    "    result = \"\" \n",
    "  \n",
    "    for i in range(len(text)): \n",
    "        char = text[i] \n",
    "  \n",
    "        if (char.isupper()): \n",
    "            result += chr((ord(char) - step - 65) % 26 + 65) \n",
    "        else: \n",
    "            result += chr((ord(char) - step - 97) % 26 + 97) \n",
    "  \n",
    "    return result \n",
    "\n",
    "def encodeFromFile(step):\n",
    "    data = readFile(encodeFileName)\n",
    "    \n",
    "    result = encode(data, step)\n",
    "    \n",
    "    writeToFile(encodedFileName, result)\n",
    "\n",
    "    return result\n",
    "\n",
    "def decodeFromFile(step):\n",
    "    data = readFile(encodedFileName)\n",
    " \n",
    "    result = decode(data, step)\n",
    "    \n",
    "    writeToFile(decodedFileName, result)\n",
    "    \n",
    "    return result"
   ]
  },
  {
   "cell_type": "code",
   "execution_count": 92,
   "metadata": {},
   "outputs": [],
   "source": [
    "f = open(encodeFileName,\"w+\")\n",
    "f.write(\"ABCDABCD\")\n",
    "f.close() "
   ]
  },
  {
   "cell_type": "code",
   "execution_count": 93,
   "metadata": {},
   "outputs": [
    {
     "name": "stdout",
     "output_type": "stream",
     "text": [
      "Input   =  ABCDABCD\n",
      "Encoded =  HIJKHIJK\n",
      "Decoded =  ABCDABCD\n"
     ]
    }
   ],
   "source": [
    "step = 7\n",
    "\n",
    "data = readFile(encodeFileName)\n",
    "encoded = encodeFromFile(step)\n",
    "decoded = decodeFromFile(step)\n",
    "\n",
    "print('Input   = ', data)\n",
    "print('Encoded = ', encoded)\n",
    "print('Decoded = ', decoded)"
   ]
  },
  {
   "cell_type": "code",
   "execution_count": 90,
   "metadata": {},
   "outputs": [
    {
     "data": {
      "text/plain": [
       "'*18?'"
      ]
     },
     "execution_count": 90,
     "metadata": {},
     "output_type": "execute_result"
    }
   ],
   "source": [
    "class Affine(object):\n",
    "   DIE = 128\n",
    "   KEY = (7, 3, 55)\n",
    "    \n",
    "   def __init__(self):\n",
    "      pass\n",
    "   def encryptChar(self, char):\n",
    "      K1, K2, kI = self.KEY\n",
    "      return chr((K1 * ord(char) + K2) % self.DIE)\n",
    "\t\t\n",
    "   def encrypt(self, string):\n",
    "      return \"\".join(map(self.encryptChar, string))\n",
    "   \n",
    "   def decryptChar(self, char):\n",
    "      K1, K2, KI = self.KEY\n",
    "      return chr(KI * (ord(char) - K2) % self.DIE)\n",
    "   \n",
    "   def decrypt(self, string):\n",
    "      return \"\".join(map(self.decryptChar, string))\n",
    "\n",
    "affine = Affine()\n",
    "affine.encrypt(\"abcd\")"
   ]
  },
  {
   "cell_type": "code",
   "execution_count": null,
   "metadata": {},
   "outputs": [],
   "source": []
  }
 ],
 "metadata": {
  "kernelspec": {
   "display_name": "Python 3",
   "language": "python",
   "name": "python3"
  },
  "language_info": {
   "codemirror_mode": {
    "name": "ipython",
    "version": 3
   },
   "file_extension": ".py",
   "mimetype": "text/x-python",
   "name": "python",
   "nbconvert_exporter": "python",
   "pygments_lexer": "ipython3",
   "version": "3.7.4"
  }
 },
 "nbformat": 4,
 "nbformat_minor": 2
}
