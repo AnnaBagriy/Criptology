{
 "cells": [
  {
   "cell_type": "code",
   "execution_count": 438,
   "metadata": {},
   "outputs": [],
   "source": [
    "import math"
   ]
  },
  {
   "cell_type": "code",
   "execution_count": 439,
   "metadata": {},
   "outputs": [],
   "source": [
    "encryptFileName = \"inputData.txt\"\n",
    "encryptedFileName = \"encryptedInputData.txt\"\n",
    "decryptedFileName = \"decryptedInputData.txt\""
   ]
  },
  {
   "cell_type": "markdown",
   "metadata": {},
   "source": [
    "## Files utilities functions"
   ]
  },
  {
   "cell_type": "code",
   "execution_count": 440,
   "metadata": {},
   "outputs": [],
   "source": [
    "def readFile(filename):\n",
    "    f = open(filename,\"r\")\n",
    "    data = f.read()\n",
    "    f.close()\n",
    "    \n",
    "    return data\n",
    "\n",
    "def writeToFile(filename, result):\n",
    "    f = open(filename,\"w\")\n",
    "    data = f.write(result)\n",
    "    f.close()\n",
    "    \n",
    "    return data"
   ]
  },
  {
   "cell_type": "code",
   "execution_count": 441,
   "metadata": {},
   "outputs": [],
   "source": [
    "def encryptFromFile():\n",
    "    data = readFile(encryptFileName)\n",
    "    \n",
    "    result = encrypt(data)\n",
    "    \n",
    "    writeToFile(encryptedFileName, result)\n",
    "\n",
    "    return result\n",
    "\n",
    "def decryptFromFile():\n",
    "    data = readFile(encryptedFileName)\n",
    " \n",
    "    result = decrypt(data)\n",
    "    \n",
    "    writeToFile(decryptedFileName, result)\n",
    "    \n",
    "    return result"
   ]
  },
  {
   "cell_type": "markdown",
   "metadata": {},
   "source": [
    "## Cryptography/Cryptoanalysis"
   ]
  },
  {
   "cell_type": "code",
   "execution_count": 460,
   "metadata": {},
   "outputs": [],
   "source": [
    "def encrypt(text):\n",
    "    result = \"\"\n",
    "    \n",
    "    #text = text.replace(\" \", \"\")\n",
    "    n = int(math.sqrt(len(text)))\n",
    "    print(n)\n",
    "    \n",
    "    print(int(len(text) / n))\n",
    "    print(int(len(text) / math.sqrt(len(text))))\n",
    "    #n=2\n",
    "    for i in range(0, n):  \n",
    "        for j in range(0, len(text), n):\n",
    "            if(j + i >= len(text)):\n",
    "                text += \"o\"\n",
    "            result += text[j + i]\n",
    "        #result += ' '\n",
    "            \n",
    "    return result    \n",
    "\n",
    "def decrypt(text):\n",
    "    size = len(text)\n",
    "    result = ['s' for x in range(size)]\n",
    "    \n",
    "    n = int(math.sqrt(len(text)))\n",
    "    #n=2\n",
    "    #for i in range(0, n):  \n",
    "    #    for j in range(0, len(text), n):\n",
    "    #        result = result[:j] + text[j + i] + result[j + 1:]\n",
    "        \n",
    "    #print(size // n)\n",
    "    for i in range(0, size // n):\n",
    "        for j in range(0, n):\n",
    "            result[i * n + j] = text[i + j * (size // n)]\n",
    "            \n",
    "    return ''.join(result)"
   ]
  },
  {
   "cell_type": "markdown",
   "metadata": {},
   "source": [
    "## Main"
   ]
  },
  {
   "cell_type": "code",
   "execution_count": 461,
   "metadata": {},
   "outputs": [],
   "source": [
    "f = open(encryptFileName,\"w+\")\n",
    "f.write(\"WE NOW MEET IN OUR SHED QZ\")\n",
    "f.close()"
   ]
  },
  {
   "cell_type": "code",
   "execution_count": 462,
   "metadata": {},
   "outputs": [
    {
     "name": "stdout",
     "output_type": "stream",
     "text": [
      "5\n",
      "5\n",
      "5\n",
      "Input     =  WE NOW MEET IN OUR SHED QZ\n",
      "Encrypted =  WWTOHZE  UEo MIRDoNEN  oOE SQo\n",
      "Decrypted =  WE NOW MEET IN OUR SHED QZoooo\n"
     ]
    }
   ],
   "source": [
    "data = readFile(encryptFileName)\n",
    "encrypted = encryptFromFile()\n",
    "decrypted = decryptFromFile()\n",
    "\n",
    "print('Input     = ', data)\n",
    "print('Encrypted = ', encrypted)\n",
    "print('Decrypted = ', decrypted)"
   ]
  },
  {
   "cell_type": "code",
   "execution_count": null,
   "metadata": {},
   "outputs": [],
   "source": []
  }
 ],
 "metadata": {
  "kernelspec": {
   "display_name": "Python 3",
   "language": "python",
   "name": "python3"
  },
  "language_info": {
   "codemirror_mode": {
    "name": "ipython",
    "version": 3
   },
   "file_extension": ".py",
   "mimetype": "text/x-python",
   "name": "python",
   "nbconvert_exporter": "python",
   "pygments_lexer": "ipython3",
   "version": "3.7.4"
  }
 },
 "nbformat": 4,
 "nbformat_minor": 2
}
