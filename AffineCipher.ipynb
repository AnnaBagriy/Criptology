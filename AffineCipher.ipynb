{
 "cells": [
  {
   "cell_type": "code",
   "execution_count": null,
   "metadata": {},
   "outputs": [],
   "source": [
    "class Affine(object):\n",
    "   DIE = 128\n",
    "   KEY = (7, 3, 55)\n",
    "    \n",
    "   def __init__(self):\n",
    "      pass\n",
    "   def encryptChar(self, char):\n",
    "      K1, K2, kI = self.KEY\n",
    "      return chr((K1 * ord(char) + K2) % self.DIE)\n",
    "\t\t\n",
    "   def encrypt(self, string):\n",
    "      return \"\".join(map(self.encryptChar, string))\n",
    "   \n",
    "   def decryptChar(self, char):\n",
    "      K1, K2, KI = self.KEY\n",
    "      return chr(KI * (ord(char) - K2) % self.DIE)\n",
    "   \n",
    "   def decrypt(self, string):\n",
    "      return \"\".join(map(self.decryptChar, string))\n",
    "\n",
    "affine = Affine()\n",
    "affine.encrypt(\"abcd\")"
   ]
  }
 ],
 "metadata": {
  "kernelspec": {
   "display_name": "Python 3",
   "language": "python",
   "name": "python3"
  },
  "language_info": {
   "codemirror_mode": {
    "name": "ipython",
    "version": 3
   },
   "file_extension": ".py",
   "mimetype": "text/x-python",
   "name": "python",
   "nbconvert_exporter": "python",
   "pygments_lexer": "ipython3",
   "version": "3.7.4"
  }
 },
 "nbformat": 4,
 "nbformat_minor": 2
}
