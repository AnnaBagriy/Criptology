{
 "cells": [
  {
   "cell_type": "code",
   "execution_count": 23,
   "metadata": {},
   "outputs": [],
   "source": [
    "encryptFileName = \"inputData.txt\"\n",
    "encryptedFileName = \"encryptedInputData.txt\"\n",
    "decryptedFileName = \"decryptedInputData.txt\""
   ]
  },
  {
   "cell_type": "markdown",
   "metadata": {},
   "source": [
    "## Cryptography/Cryptoanalysis"
   ]
  },
  {
   "cell_type": "code",
   "execution_count": 24,
   "metadata": {},
   "outputs": [],
   "source": [
    "def encrypt(text, step):\n",
    "    result = \"\" \n",
    "  \n",
    "    for i in range(len(text)): \n",
    "        char = text[i] \n",
    "  \n",
    "        if (char.isupper()): \n",
    "            result += chr((ord(char) + step - 65) % 26 + 65) \n",
    "        else: \n",
    "            result += chr((ord(char) + step - 97) % 26 + 97) \n",
    "  \n",
    "    return result \n",
    " \n",
    "def decrypt(text, step):\n",
    "    result = \"\" \n",
    "  \n",
    "    for i in range(len(text)): \n",
    "        char = text[i] \n",
    "  \n",
    "        if (char.isupper()): \n",
    "            result += chr((ord(char) - step - 65) % 26 + 65) \n",
    "        else: \n",
    "            result += chr((ord(char) - step - 97) % 26 + 97) \n",
    "  \n",
    "    return result \n",
    "\n",
    "def decipher(text):\n",
    "    for step in range(1,26):\n",
    "        result = \"\" \n",
    "        \n",
    "        for i in range(len(text)): \n",
    "            char = text[i] \n",
    "\n",
    "            if (char.isupper()): \n",
    "                result += chr((ord(char) - step - 65) % 26 + 65) \n",
    "            else: \n",
    "                result += chr((ord(char) - step - 97) % 26 + 97) \n",
    "\n",
    "        print(result)"
   ]
  },
  {
   "cell_type": "markdown",
   "metadata": {},
   "source": [
    "## Files utilities functions"
   ]
  },
  {
   "cell_type": "code",
   "execution_count": 26,
   "metadata": {},
   "outputs": [],
   "source": [
    "def readFile(filename):\n",
    "    f = open(filename,\"r\")\n",
    "    data = f.read()\n",
    "    f.close()\n",
    "    \n",
    "    return data\n",
    "\n",
    "def writeToFile(filename, result):\n",
    "    f = open(filename,\"w\")\n",
    "    data = f.write(result)\n",
    "    f.close()\n",
    "    \n",
    "    return data"
   ]
  },
  {
   "cell_type": "code",
   "execution_count": 27,
   "metadata": {},
   "outputs": [],
   "source": [
    "def encryptFromFile(step):\n",
    "    data = readFile(encryptFileName)\n",
    "    \n",
    "    result = encrypt(data, step)\n",
    "    \n",
    "    writeToFile(encryptedFileName, result)\n",
    "\n",
    "    return result\n",
    "\n",
    "def decryptFromFile(step):\n",
    "    data = readFile(encryptedFileName)\n",
    " \n",
    "    result = decrypt(data, step)\n",
    "    \n",
    "    writeToFile(decryptedFileName, result)\n",
    "    \n",
    "    return result"
   ]
  },
  {
   "cell_type": "markdown",
   "metadata": {},
   "source": [
    "## Main"
   ]
  },
  {
   "cell_type": "code",
   "execution_count": 28,
   "metadata": {},
   "outputs": [],
   "source": [
    "f = open(encryptFileName,\"w+\")\n",
    "f.write(\"Hello\")\n",
    "f.close() "
   ]
  },
  {
   "cell_type": "code",
   "execution_count": 29,
   "metadata": {},
   "outputs": [
    {
     "name": "stdout",
     "output_type": "stream",
     "text": [
      "Input   =  Hello\n",
      "Encrypted =  Olssv\n",
      "Decrypted =  Hello\n"
     ]
    }
   ],
   "source": [
    "step = 7\n",
    "\n",
    "data = readFile(encryptFileName)\n",
    "encrypted = encryptFromFile(step)\n",
    "decrypted = decryptFromFile(step)\n",
    "\n",
    "print('Input   = ', data)\n",
    "print('Encrypted = ', encrypted)\n",
    "print('Decrypted = ', decrypted)"
   ]
  },
  {
   "cell_type": "code",
   "execution_count": 30,
   "metadata": {},
   "outputs": [
    {
     "name": "stdout",
     "output_type": "stream",
     "text": [
      "Nkrru\n",
      "Mjqqt\n",
      "Lipps\n",
      "Khoor\n",
      "Jgnnq\n",
      "Ifmmp\n",
      "Hello\n",
      "Gdkkn\n",
      "Fcjjm\n",
      "Ebiil\n",
      "Dahhk\n",
      "Czggj\n",
      "Byffi\n",
      "Axeeh\n",
      "Zwddg\n",
      "Yvccf\n",
      "Xubbe\n",
      "Wtaad\n",
      "Vszzc\n",
      "Uryyb\n",
      "Tqxxa\n",
      "Spwwz\n",
      "Rovvy\n",
      "Qnuux\n",
      "Pmttw\n"
     ]
    }
   ],
   "source": [
    "decipher(encrypted)"
   ]
  },
  {
   "cell_type": "code",
   "execution_count": null,
   "metadata": {},
   "outputs": [],
   "source": []
  }
 ],
 "metadata": {
  "kernelspec": {
   "display_name": "Python 3",
   "language": "python",
   "name": "python3"
  },
  "language_info": {
   "codemirror_mode": {
    "name": "ipython",
    "version": 3
   },
   "file_extension": ".py",
   "mimetype": "text/x-python",
   "name": "python",
   "nbconvert_exporter": "python",
   "pygments_lexer": "ipython3",
   "version": "3.7.4"
  }
 },
 "nbformat": 4,
 "nbformat_minor": 2
}
