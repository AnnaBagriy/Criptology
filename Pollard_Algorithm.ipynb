{
 "cells": [
  {
   "cell_type": "code",
   "execution_count": 108,
   "metadata": {},
   "outputs": [],
   "source": [
    "from sympy import mod_inverse"
   ]
  },
  {
   "cell_type": "code",
   "execution_count": 172,
   "metadata": {},
   "outputs": [],
   "source": [
    "def mod(x, a):\n",
    "    return x % a"
   ]
  },
  {
   "cell_type": "code",
   "execution_count": 173,
   "metadata": {},
   "outputs": [],
   "source": [
    "def S(remainder):\n",
    "    if remainder == 1:\n",
    "        return 1\n",
    "    elif remainder == 0:\n",
    "        return 2\n",
    "    elif remainder == 2:\n",
    "        return 3"
   ]
  },
  {
   "cell_type": "code",
   "execution_count": 174,
   "metadata": {},
   "outputs": [],
   "source": [
    "def calculate_from(x, a, b, N, P):\n",
    "    c = mod(x, 3)\n",
    "\n",
    "    if S(c) == 1:\n",
    "        return beta * x % P, a, b + 1 % N\n",
    "    elif S(c) == 2:\n",
    "        return x * x % P, 2 * a % N, 2 * b % N\n",
    "    elif S(c) == 3:\n",
    "        return alpha * x % P, a + 1 % N, b"
   ]
  },
  {
   "cell_type": "code",
   "execution_count": 175,
   "metadata": {},
   "outputs": [],
   "source": [
    "def pollard_method(P, alpha, beta):\n",
    "    \n",
    "    N = (P - 1) / 2\n",
    "    \n",
    "    x_i, a_i, b_i = calculate_from(1, 0, 0, N, P)\n",
    "    x_2i, a_2i, b_2i = calculate_from(x_i, a_i, b_i, N, P)\n",
    "\n",
    "    i = 2\n",
    "    while x_i != x_2i:\n",
    "        x_i, a_i, b_i = calculate_from(x_i, a_i, b_i, N, P)\n",
    "        x_2i, a_2i, b_2i = calculate_from(x_2i, a_2i, b_2i, N, P)\n",
    "        x_2i, a_2i, b_2i = calculate_from(x_2i, a_2i, b_2i, N, P)\n",
    "        \n",
    "        i = i + 2\n",
    "\n",
    "    a, b = a_2i - a_i, b_i - b_2i\n",
    "\n",
    "    print(f'interations = {i}')\n",
    "    print(f'x_i = {x_i}, x_2i = {x_2i}')\n",
    "    print(f'a_i = {a_i}, b_i = {b_i}')\n",
    "    print(f'a_2i = {a_2i}, b_2i = {b_2i}')\n",
    "    print()\n",
    "        \n",
    "    if b == 0:\n",
    "        print('Operation failed')\n",
    "        return\n",
    "    if a < 0:\n",
    "        a = a + N\n",
    "    if b < 0:\n",
    "        b = b + N\n",
    "    \n",
    "    log_result = mod_inverse(b, N) * a % N\n",
    "\n",
    "    return log_result, a, b"
   ]
  },
  {
   "cell_type": "markdown",
   "metadata": {},
   "source": [
    "## Main"
   ]
  },
  {
   "cell_type": "code",
   "execution_count": 176,
   "metadata": {},
   "outputs": [
    {
     "name": "stdout",
     "output_type": "stream",
     "text": [
      "interations = 28\n",
      "x_i = 127, x_2i = 127\n",
      "a_i = 5.0, b_i = 16.0\n",
      "a_2i = 35.0, b_2i = 82.0\n",
      "\n",
      "log_3_212 = 107.0^-1 * 30.0 (mod 173.0) = 31.0\n"
     ]
    }
   ],
   "source": [
    "P = 347 # Розмір\n",
    "alpha = 3 # Твірний елемент групи\n",
    "beta = 212 # Число\n",
    "\n",
    "result, a, b = pollard_method(P, alpha, beta)\n",
    "print(f'log_{alpha}_{beta} = {b}^-1 * {a} (mod {N}) = {result}')"
   ]
  },
  {
   "cell_type": "code",
   "execution_count": null,
   "metadata": {},
   "outputs": [],
   "source": []
  }
 ],
 "metadata": {
  "kernelspec": {
   "display_name": "Python 3",
   "language": "python",
   "name": "python3"
  },
  "language_info": {
   "codemirror_mode": {
    "name": "ipython",
    "version": 3
   },
   "file_extension": ".py",
   "mimetype": "text/x-python",
   "name": "python",
   "nbconvert_exporter": "python",
   "pygments_lexer": "ipython3",
   "version": "3.6.5"
  }
 },
 "nbformat": 4,
 "nbformat_minor": 2
}
